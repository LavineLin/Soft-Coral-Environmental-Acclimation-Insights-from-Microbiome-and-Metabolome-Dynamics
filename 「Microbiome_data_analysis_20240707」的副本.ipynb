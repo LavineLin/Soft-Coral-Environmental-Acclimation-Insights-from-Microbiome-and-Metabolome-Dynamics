{
  "nbformat": 4,
  "nbformat_minor": 0,
  "metadata": {
    "colab": {
      "provenance": [],
      "collapsed_sections": [
        "ollOVhInRCf4"
      ],
      "include_colab_link": true
    },
    "kernelspec": {
      "name": "python3",
      "display_name": "Python 3"
    },
    "language_info": {
      "name": "python"
    }
  },
  "cells": [
    {
      "cell_type": "markdown",
      "metadata": {
        "id": "view-in-github",
        "colab_type": "text"
      },
      "source": [
        "<a href=\"https://colab.research.google.com/github/LavineLin/Soft-Coral-Environmental-Acclimation-Insights-from-Microbiome-and-Metabolome-Dynamics/blob/main/%E3%80%8CMicrobiome_data_analysis_20240707%E3%80%8D%E7%9A%84%E5%89%AF%E6%9C%AC.ipynb\" target=\"_parent\"><img src=\"https://colab.research.google.com/assets/colab-badge.svg\" alt=\"Open In Colab\"/></a>"
      ]
    },
    {
      "cell_type": "markdown",
      "source": [
        "# Tool"
      ],
      "metadata": {
        "id": "ollOVhInRCf4"
      }
    },
    {
      "cell_type": "code",
      "execution_count": null,
      "metadata": {
        "colab": {
          "base_uri": "https://localhost:8080/",
          "height": 651
        },
        "id": "FfFGoLvyilSM",
        "outputId": "645258fa-dd2f-4fe9-8875-a447ec5712e2"
      },
      "outputs": [
        {
          "output_type": "stream",
          "name": "stdout",
          "text": [
            "Cloning into 'soundscape_IR'...\n",
            "remote: Enumerating objects: 2511, done.\u001b[K\n",
            "remote: Counting objects: 100% (611/611), done.\u001b[K\n",
            "remote: Compressing objects: 100% (332/332), done.\u001b[K\n",
            "remote: Total 2511 (delta 391), reused 466 (delta 279), pack-reused 1900 (from 1)\u001b[K\n",
            "Receiving objects: 100% (2511/2511), 74.05 MiB | 15.01 MiB/s, done.\n",
            "Resolving deltas: 100% (1651/1651), done.\n",
            "Updating files: 100% (56/56), done.\n",
            "Requirement already satisfied: umap-learn in /usr/local/lib/python3.12/dist-packages (0.5.9.post2)\n",
            "Requirement already satisfied: numpy>=1.23 in /usr/local/lib/python3.12/dist-packages (from umap-learn) (2.0.2)\n",
            "Requirement already satisfied: scipy>=1.3.1 in /usr/local/lib/python3.12/dist-packages (from umap-learn) (1.16.1)\n",
            "Requirement already satisfied: scikit-learn>=1.6 in /usr/local/lib/python3.12/dist-packages (from umap-learn) (1.6.1)\n",
            "Requirement already satisfied: numba>=0.51.2 in /usr/local/lib/python3.12/dist-packages (from umap-learn) (0.60.0)\n",
            "Requirement already satisfied: pynndescent>=0.5 in /usr/local/lib/python3.12/dist-packages (from umap-learn) (0.5.13)\n",
            "Requirement already satisfied: tqdm in /usr/local/lib/python3.12/dist-packages (from umap-learn) (4.67.1)\n",
            "Requirement already satisfied: llvmlite<0.44,>=0.43.0dev0 in /usr/local/lib/python3.12/dist-packages (from numba>=0.51.2->umap-learn) (0.43.0)\n",
            "Requirement already satisfied: joblib>=0.11 in /usr/local/lib/python3.12/dist-packages (from pynndescent>=0.5->umap-learn) (1.5.1)\n",
            "Requirement already satisfied: threadpoolctl>=3.1.0 in /usr/local/lib/python3.12/dist-packages (from scikit-learn>=1.6->umap-learn) (3.6.0)\n"
          ]
        },
        {
          "output_type": "error",
          "ename": "KeyboardInterrupt",
          "evalue": "",
          "traceback": [
            "\u001b[0;31m---------------------------------------------------------------------------\u001b[0m",
            "\u001b[0;31mKeyboardInterrupt\u001b[0m                         Traceback (most recent call last)",
            "\u001b[0;32m/tmp/ipython-input-3805108271.py\u001b[0m in \u001b[0;36m<cell line: 0>\u001b[0;34m()\u001b[0m\n\u001b[1;32m      1\u001b[0m \u001b[0mget_ipython\u001b[0m\u001b[0;34m(\u001b[0m\u001b[0;34m)\u001b[0m\u001b[0;34m.\u001b[0m\u001b[0msystem\u001b[0m\u001b[0;34m(\u001b[0m\u001b[0;34m'git clone https://github.com/schonkopf/soundscape_IR.git'\u001b[0m\u001b[0;34m)\u001b[0m\u001b[0;34m\u001b[0m\u001b[0;34m\u001b[0m\u001b[0m\n\u001b[0;32m----> 2\u001b[0;31m \u001b[0mget_ipython\u001b[0m\u001b[0;34m(\u001b[0m\u001b[0;34m)\u001b[0m\u001b[0;34m.\u001b[0m\u001b[0msystem\u001b[0m\u001b[0;34m(\u001b[0m\u001b[0;34m'pip install umap-learn'\u001b[0m\u001b[0;34m)\u001b[0m\u001b[0;34m\u001b[0m\u001b[0;34m\u001b[0m\u001b[0m\n\u001b[0m\u001b[1;32m      3\u001b[0m \u001b[0mget_ipython\u001b[0m\u001b[0;34m(\u001b[0m\u001b[0;34m)\u001b[0m\u001b[0;34m.\u001b[0m\u001b[0msystem\u001b[0m\u001b[0;34m(\u001b[0m\u001b[0;34m'pip install -U kaleido'\u001b[0m\u001b[0;34m)\u001b[0m\u001b[0;34m\u001b[0m\u001b[0;34m\u001b[0m\u001b[0m\n\u001b[1;32m      4\u001b[0m \u001b[0mget_ipython\u001b[0m\u001b[0;34m(\u001b[0m\u001b[0;34m)\u001b[0m\u001b[0;34m.\u001b[0m\u001b[0msystem\u001b[0m\u001b[0;34m(\u001b[0m\u001b[0;34m'pip install -U csaps'\u001b[0m\u001b[0;34m)\u001b[0m\u001b[0;34m\u001b[0m\u001b[0;34m\u001b[0m\u001b[0m\n",
            "\u001b[0;32m/usr/local/lib/python3.12/dist-packages/google/colab/_shell.py\u001b[0m in \u001b[0;36msystem\u001b[0;34m(self, *args, **kwargs)\u001b[0m\n\u001b[1;32m    150\u001b[0m \u001b[0;34m\u001b[0m\u001b[0m\n\u001b[1;32m    151\u001b[0m     \u001b[0;32mif\u001b[0m \u001b[0mpip_warn\u001b[0m\u001b[0;34m:\u001b[0m\u001b[0;34m\u001b[0m\u001b[0;34m\u001b[0m\u001b[0m\n\u001b[0;32m--> 152\u001b[0;31m       \u001b[0m_pip\u001b[0m\u001b[0;34m.\u001b[0m\u001b[0mprint_previous_import_warning\u001b[0m\u001b[0;34m(\u001b[0m\u001b[0moutput\u001b[0m\u001b[0;34m)\u001b[0m\u001b[0;34m\u001b[0m\u001b[0;34m\u001b[0m\u001b[0m\n\u001b[0m\u001b[1;32m    153\u001b[0m \u001b[0;34m\u001b[0m\u001b[0m\n\u001b[1;32m    154\u001b[0m   \u001b[0;32mdef\u001b[0m \u001b[0m_send_error\u001b[0m\u001b[0;34m(\u001b[0m\u001b[0mself\u001b[0m\u001b[0;34m,\u001b[0m \u001b[0mexc_content\u001b[0m\u001b[0;34m)\u001b[0m\u001b[0;34m:\u001b[0m\u001b[0;34m\u001b[0m\u001b[0;34m\u001b[0m\u001b[0m\n",
            "\u001b[0;32m/usr/local/lib/python3.12/dist-packages/google/colab/_pip.py\u001b[0m in \u001b[0;36mprint_previous_import_warning\u001b[0;34m(output)\u001b[0m\n\u001b[1;32m     54\u001b[0m \u001b[0;32mdef\u001b[0m \u001b[0mprint_previous_import_warning\u001b[0m\u001b[0;34m(\u001b[0m\u001b[0moutput\u001b[0m\u001b[0;34m)\u001b[0m\u001b[0;34m:\u001b[0m\u001b[0;34m\u001b[0m\u001b[0;34m\u001b[0m\u001b[0m\n\u001b[1;32m     55\u001b[0m   \u001b[0;34m\"\"\"Prints a warning about previously imported packages.\"\"\"\u001b[0m\u001b[0;34m\u001b[0m\u001b[0;34m\u001b[0m\u001b[0m\n\u001b[0;32m---> 56\u001b[0;31m   \u001b[0mpackages\u001b[0m \u001b[0;34m=\u001b[0m \u001b[0m_previously_imported_packages\u001b[0m\u001b[0;34m(\u001b[0m\u001b[0moutput\u001b[0m\u001b[0;34m)\u001b[0m\u001b[0;34m\u001b[0m\u001b[0;34m\u001b[0m\u001b[0m\n\u001b[0m\u001b[1;32m     57\u001b[0m   \u001b[0;32mif\u001b[0m \u001b[0mpackages\u001b[0m\u001b[0;34m:\u001b[0m\u001b[0;34m\u001b[0m\u001b[0;34m\u001b[0m\u001b[0m\n\u001b[1;32m     58\u001b[0m     \u001b[0;31m# display a list of packages using the colab-display-data mimetype, which\u001b[0m\u001b[0;34m\u001b[0m\u001b[0;34m\u001b[0m\u001b[0m\n",
            "\u001b[0;32m/usr/local/lib/python3.12/dist-packages/google/colab/_pip.py\u001b[0m in \u001b[0;36m_previously_imported_packages\u001b[0;34m(pip_output)\u001b[0m\n\u001b[1;32m     48\u001b[0m \u001b[0;32mdef\u001b[0m \u001b[0m_previously_imported_packages\u001b[0m\u001b[0;34m(\u001b[0m\u001b[0mpip_output\u001b[0m\u001b[0;34m)\u001b[0m\u001b[0;34m:\u001b[0m\u001b[0;34m\u001b[0m\u001b[0;34m\u001b[0m\u001b[0m\n\u001b[1;32m     49\u001b[0m   \u001b[0;34m\"\"\"List all previously imported packages from a pip install.\"\"\"\u001b[0m\u001b[0;34m\u001b[0m\u001b[0;34m\u001b[0m\u001b[0m\n\u001b[0;32m---> 50\u001b[0;31m   \u001b[0minstalled\u001b[0m \u001b[0;34m=\u001b[0m \u001b[0mset\u001b[0m\u001b[0;34m(\u001b[0m\u001b[0m_extract_toplevel_packages\u001b[0m\u001b[0;34m(\u001b[0m\u001b[0mpip_output\u001b[0m\u001b[0;34m)\u001b[0m\u001b[0;34m)\u001b[0m\u001b[0;34m\u001b[0m\u001b[0;34m\u001b[0m\u001b[0m\n\u001b[0m\u001b[1;32m     51\u001b[0m   \u001b[0;32mreturn\u001b[0m \u001b[0msorted\u001b[0m\u001b[0;34m(\u001b[0m\u001b[0minstalled\u001b[0m\u001b[0;34m.\u001b[0m\u001b[0mintersection\u001b[0m\u001b[0;34m(\u001b[0m\u001b[0mset\u001b[0m\u001b[0;34m(\u001b[0m\u001b[0msys\u001b[0m\u001b[0;34m.\u001b[0m\u001b[0mmodules\u001b[0m\u001b[0;34m)\u001b[0m\u001b[0;34m)\u001b[0m\u001b[0;34m)\u001b[0m\u001b[0;34m\u001b[0m\u001b[0;34m\u001b[0m\u001b[0m\n\u001b[1;32m     52\u001b[0m \u001b[0;34m\u001b[0m\u001b[0m\n",
            "\u001b[0;32m/usr/local/lib/python3.12/dist-packages/google/colab/_pip.py\u001b[0m in \u001b[0;36m_extract_toplevel_packages\u001b[0;34m(pip_output)\u001b[0m\n\u001b[1;32m     37\u001b[0m   \u001b[0;34m\"\"\"Extract the list of toplevel packages associated with a pip install.\"\"\"\u001b[0m\u001b[0;34m\u001b[0m\u001b[0;34m\u001b[0m\u001b[0m\n\u001b[1;32m     38\u001b[0m   \u001b[0mtoplevel\u001b[0m \u001b[0;34m=\u001b[0m \u001b[0mcollections\u001b[0m\u001b[0;34m.\u001b[0m\u001b[0mdefaultdict\u001b[0m\u001b[0;34m(\u001b[0m\u001b[0mset\u001b[0m\u001b[0;34m)\u001b[0m\u001b[0;34m\u001b[0m\u001b[0;34m\u001b[0m\u001b[0m\n\u001b[0;32m---> 39\u001b[0;31m   \u001b[0;32mfor\u001b[0m \u001b[0mm\u001b[0m\u001b[0;34m,\u001b[0m \u001b[0mps\u001b[0m \u001b[0;32min\u001b[0m \u001b[0mimportlib\u001b[0m\u001b[0;34m.\u001b[0m\u001b[0mmetadata\u001b[0m\u001b[0;34m.\u001b[0m\u001b[0mpackages_distributions\u001b[0m\u001b[0;34m(\u001b[0m\u001b[0;34m)\u001b[0m\u001b[0;34m.\u001b[0m\u001b[0mitems\u001b[0m\u001b[0;34m(\u001b[0m\u001b[0;34m)\u001b[0m\u001b[0;34m:\u001b[0m\u001b[0;34m\u001b[0m\u001b[0;34m\u001b[0m\u001b[0m\n\u001b[0m\u001b[1;32m     40\u001b[0m     \u001b[0;32mfor\u001b[0m \u001b[0mp\u001b[0m \u001b[0;32min\u001b[0m \u001b[0mps\u001b[0m\u001b[0;34m:\u001b[0m\u001b[0;34m\u001b[0m\u001b[0;34m\u001b[0m\u001b[0m\n\u001b[1;32m     41\u001b[0m       \u001b[0mtoplevel\u001b[0m\u001b[0;34m[\u001b[0m\u001b[0mp\u001b[0m\u001b[0;34m]\u001b[0m\u001b[0;34m.\u001b[0m\u001b[0madd\u001b[0m\u001b[0;34m(\u001b[0m\u001b[0mm\u001b[0m\u001b[0;34m)\u001b[0m\u001b[0;34m\u001b[0m\u001b[0;34m\u001b[0m\u001b[0m\n",
            "\u001b[0;32m/usr/lib/python3.12/importlib/metadata/__init__.py\u001b[0m in \u001b[0;36mpackages_distributions\u001b[0;34m()\u001b[0m\n\u001b[1;32m    945\u001b[0m     \u001b[0mpkg_to_dist\u001b[0m \u001b[0;34m=\u001b[0m \u001b[0mcollections\u001b[0m\u001b[0;34m.\u001b[0m\u001b[0mdefaultdict\u001b[0m\u001b[0;34m(\u001b[0m\u001b[0mlist\u001b[0m\u001b[0;34m)\u001b[0m\u001b[0;34m\u001b[0m\u001b[0;34m\u001b[0m\u001b[0m\n\u001b[1;32m    946\u001b[0m     \u001b[0;32mfor\u001b[0m \u001b[0mdist\u001b[0m \u001b[0;32min\u001b[0m \u001b[0mdistributions\u001b[0m\u001b[0;34m(\u001b[0m\u001b[0;34m)\u001b[0m\u001b[0;34m:\u001b[0m\u001b[0;34m\u001b[0m\u001b[0;34m\u001b[0m\u001b[0m\n\u001b[0;32m--> 947\u001b[0;31m         \u001b[0;32mfor\u001b[0m \u001b[0mpkg\u001b[0m \u001b[0;32min\u001b[0m \u001b[0m_top_level_declared\u001b[0m\u001b[0;34m(\u001b[0m\u001b[0mdist\u001b[0m\u001b[0;34m)\u001b[0m \u001b[0;32mor\u001b[0m \u001b[0m_top_level_inferred\u001b[0m\u001b[0;34m(\u001b[0m\u001b[0mdist\u001b[0m\u001b[0;34m)\u001b[0m\u001b[0;34m:\u001b[0m\u001b[0;34m\u001b[0m\u001b[0;34m\u001b[0m\u001b[0m\n\u001b[0m\u001b[1;32m    948\u001b[0m             \u001b[0mpkg_to_dist\u001b[0m\u001b[0;34m[\u001b[0m\u001b[0mpkg\u001b[0m\u001b[0;34m]\u001b[0m\u001b[0;34m.\u001b[0m\u001b[0mappend\u001b[0m\u001b[0;34m(\u001b[0m\u001b[0mdist\u001b[0m\u001b[0;34m.\u001b[0m\u001b[0mmetadata\u001b[0m\u001b[0;34m[\u001b[0m\u001b[0;34m'Name'\u001b[0m\u001b[0;34m]\u001b[0m\u001b[0;34m)\u001b[0m\u001b[0;34m\u001b[0m\u001b[0;34m\u001b[0m\u001b[0m\n\u001b[1;32m    949\u001b[0m     \u001b[0;32mreturn\u001b[0m \u001b[0mdict\u001b[0m\u001b[0;34m(\u001b[0m\u001b[0mpkg_to_dist\u001b[0m\u001b[0;34m)\u001b[0m\u001b[0;34m\u001b[0m\u001b[0;34m\u001b[0m\u001b[0m\n",
            "\u001b[0;32m/usr/lib/python3.12/importlib/metadata/__init__.py\u001b[0m in \u001b[0;36m_top_level_inferred\u001b[0;34m(dist)\u001b[0m\n\u001b[1;32m    957\u001b[0m     opt_names = {\n\u001b[1;32m    958\u001b[0m         \u001b[0mf\u001b[0m\u001b[0;34m.\u001b[0m\u001b[0mparts\u001b[0m\u001b[0;34m[\u001b[0m\u001b[0;36m0\u001b[0m\u001b[0;34m]\u001b[0m \u001b[0;32mif\u001b[0m \u001b[0mlen\u001b[0m\u001b[0;34m(\u001b[0m\u001b[0mf\u001b[0m\u001b[0;34m.\u001b[0m\u001b[0mparts\u001b[0m\u001b[0;34m)\u001b[0m \u001b[0;34m>\u001b[0m \u001b[0;36m1\u001b[0m \u001b[0;32melse\u001b[0m \u001b[0minspect\u001b[0m\u001b[0;34m.\u001b[0m\u001b[0mgetmodulename\u001b[0m\u001b[0;34m(\u001b[0m\u001b[0mf\u001b[0m\u001b[0;34m)\u001b[0m\u001b[0;34m\u001b[0m\u001b[0;34m\u001b[0m\u001b[0m\n\u001b[0;32m--> 959\u001b[0;31m         \u001b[0;32mfor\u001b[0m \u001b[0mf\u001b[0m \u001b[0;32min\u001b[0m \u001b[0malways_iterable\u001b[0m\u001b[0;34m(\u001b[0m\u001b[0mdist\u001b[0m\u001b[0;34m.\u001b[0m\u001b[0mfiles\u001b[0m\u001b[0;34m)\u001b[0m\u001b[0;34m\u001b[0m\u001b[0;34m\u001b[0m\u001b[0m\n\u001b[0m\u001b[1;32m    960\u001b[0m     }\n\u001b[1;32m    961\u001b[0m \u001b[0;34m\u001b[0m\u001b[0m\n",
            "\u001b[0;32m/usr/lib/python3.12/importlib/metadata/__init__.py\u001b[0m in \u001b[0;36mfiles\u001b[0;34m(self)\u001b[0m\n\u001b[1;32m    498\u001b[0m             \u001b[0;32mreturn\u001b[0m \u001b[0mlist\u001b[0m\u001b[0;34m(\u001b[0m\u001b[0mfilter\u001b[0m\u001b[0;34m(\u001b[0m\u001b[0;32mlambda\u001b[0m \u001b[0mpath\u001b[0m\u001b[0;34m:\u001b[0m \u001b[0mpath\u001b[0m\u001b[0;34m.\u001b[0m\u001b[0mlocate\u001b[0m\u001b[0;34m(\u001b[0m\u001b[0;34m)\u001b[0m\u001b[0;34m.\u001b[0m\u001b[0mexists\u001b[0m\u001b[0;34m(\u001b[0m\u001b[0;34m)\u001b[0m\u001b[0;34m,\u001b[0m \u001b[0mpackage_paths\u001b[0m\u001b[0;34m)\u001b[0m\u001b[0;34m)\u001b[0m\u001b[0;34m\u001b[0m\u001b[0;34m\u001b[0m\u001b[0m\n\u001b[1;32m    499\u001b[0m \u001b[0;34m\u001b[0m\u001b[0m\n\u001b[0;32m--> 500\u001b[0;31m         return skip_missing_files(\n\u001b[0m\u001b[1;32m    501\u001b[0m             make_files(\n\u001b[1;32m    502\u001b[0m                 \u001b[0mself\u001b[0m\u001b[0;34m.\u001b[0m\u001b[0m_read_files_distinfo\u001b[0m\u001b[0;34m(\u001b[0m\u001b[0;34m)\u001b[0m\u001b[0;34m\u001b[0m\u001b[0;34m\u001b[0m\u001b[0m\n",
            "\u001b[0;32m/usr/lib/python3.12/importlib/metadata/_functools.py\u001b[0m in \u001b[0;36mwrapper\u001b[0;34m(param, *args, **kwargs)\u001b[0m\n\u001b[1;32m    100\u001b[0m     \u001b[0;32mdef\u001b[0m \u001b[0mwrapper\u001b[0m\u001b[0;34m(\u001b[0m\u001b[0mparam\u001b[0m\u001b[0;34m,\u001b[0m \u001b[0;34m*\u001b[0m\u001b[0margs\u001b[0m\u001b[0;34m,\u001b[0m \u001b[0;34m**\u001b[0m\u001b[0mkwargs\u001b[0m\u001b[0;34m)\u001b[0m\u001b[0;34m:\u001b[0m\u001b[0;34m\u001b[0m\u001b[0;34m\u001b[0m\u001b[0m\n\u001b[1;32m    101\u001b[0m         \u001b[0;32mif\u001b[0m \u001b[0mparam\u001b[0m \u001b[0;32mis\u001b[0m \u001b[0;32mnot\u001b[0m \u001b[0;32mNone\u001b[0m\u001b[0;34m:\u001b[0m\u001b[0;34m\u001b[0m\u001b[0;34m\u001b[0m\u001b[0m\n\u001b[0;32m--> 102\u001b[0;31m             \u001b[0;32mreturn\u001b[0m \u001b[0mfunc\u001b[0m\u001b[0;34m(\u001b[0m\u001b[0mparam\u001b[0m\u001b[0;34m,\u001b[0m \u001b[0;34m*\u001b[0m\u001b[0margs\u001b[0m\u001b[0;34m,\u001b[0m \u001b[0;34m**\u001b[0m\u001b[0mkwargs\u001b[0m\u001b[0;34m)\u001b[0m\u001b[0;34m\u001b[0m\u001b[0;34m\u001b[0m\u001b[0m\n\u001b[0m\u001b[1;32m    103\u001b[0m \u001b[0;34m\u001b[0m\u001b[0m\n\u001b[1;32m    104\u001b[0m     \u001b[0;32mreturn\u001b[0m \u001b[0mwrapper\u001b[0m\u001b[0;34m\u001b[0m\u001b[0;34m\u001b[0m\u001b[0m\n",
            "\u001b[0;32m/usr/lib/python3.12/importlib/metadata/__init__.py\u001b[0m in \u001b[0;36mskip_missing_files\u001b[0;34m(package_paths)\u001b[0m\n\u001b[1;32m    496\u001b[0m         \u001b[0;34m@\u001b[0m\u001b[0mpass_none\u001b[0m\u001b[0;34m\u001b[0m\u001b[0;34m\u001b[0m\u001b[0m\n\u001b[1;32m    497\u001b[0m         \u001b[0;32mdef\u001b[0m \u001b[0mskip_missing_files\u001b[0m\u001b[0;34m(\u001b[0m\u001b[0mpackage_paths\u001b[0m\u001b[0;34m)\u001b[0m\u001b[0;34m:\u001b[0m\u001b[0;34m\u001b[0m\u001b[0;34m\u001b[0m\u001b[0m\n\u001b[0;32m--> 498\u001b[0;31m             \u001b[0;32mreturn\u001b[0m \u001b[0mlist\u001b[0m\u001b[0;34m(\u001b[0m\u001b[0mfilter\u001b[0m\u001b[0;34m(\u001b[0m\u001b[0;32mlambda\u001b[0m \u001b[0mpath\u001b[0m\u001b[0;34m:\u001b[0m \u001b[0mpath\u001b[0m\u001b[0;34m.\u001b[0m\u001b[0mlocate\u001b[0m\u001b[0;34m(\u001b[0m\u001b[0;34m)\u001b[0m\u001b[0;34m.\u001b[0m\u001b[0mexists\u001b[0m\u001b[0;34m(\u001b[0m\u001b[0;34m)\u001b[0m\u001b[0;34m,\u001b[0m \u001b[0mpackage_paths\u001b[0m\u001b[0;34m)\u001b[0m\u001b[0;34m)\u001b[0m\u001b[0;34m\u001b[0m\u001b[0;34m\u001b[0m\u001b[0m\n\u001b[0m\u001b[1;32m    499\u001b[0m \u001b[0;34m\u001b[0m\u001b[0m\n\u001b[1;32m    500\u001b[0m         return skip_missing_files(\n",
            "\u001b[0;32m/usr/lib/python3.12/importlib/metadata/__init__.py\u001b[0m in \u001b[0;36m<lambda>\u001b[0;34m(path)\u001b[0m\n\u001b[1;32m    496\u001b[0m         \u001b[0;34m@\u001b[0m\u001b[0mpass_none\u001b[0m\u001b[0;34m\u001b[0m\u001b[0;34m\u001b[0m\u001b[0m\n\u001b[1;32m    497\u001b[0m         \u001b[0;32mdef\u001b[0m \u001b[0mskip_missing_files\u001b[0m\u001b[0;34m(\u001b[0m\u001b[0mpackage_paths\u001b[0m\u001b[0;34m)\u001b[0m\u001b[0;34m:\u001b[0m\u001b[0;34m\u001b[0m\u001b[0;34m\u001b[0m\u001b[0m\n\u001b[0;32m--> 498\u001b[0;31m             \u001b[0;32mreturn\u001b[0m \u001b[0mlist\u001b[0m\u001b[0;34m(\u001b[0m\u001b[0mfilter\u001b[0m\u001b[0;34m(\u001b[0m\u001b[0;32mlambda\u001b[0m \u001b[0mpath\u001b[0m\u001b[0;34m:\u001b[0m \u001b[0mpath\u001b[0m\u001b[0;34m.\u001b[0m\u001b[0mlocate\u001b[0m\u001b[0;34m(\u001b[0m\u001b[0;34m)\u001b[0m\u001b[0;34m.\u001b[0m\u001b[0mexists\u001b[0m\u001b[0;34m(\u001b[0m\u001b[0;34m)\u001b[0m\u001b[0;34m,\u001b[0m \u001b[0mpackage_paths\u001b[0m\u001b[0;34m)\u001b[0m\u001b[0;34m)\u001b[0m\u001b[0;34m\u001b[0m\u001b[0;34m\u001b[0m\u001b[0m\n\u001b[0m\u001b[1;32m    499\u001b[0m \u001b[0;34m\u001b[0m\u001b[0m\n\u001b[1;32m    500\u001b[0m         return skip_missing_files(\n",
            "\u001b[0;32m/usr/lib/python3.12/pathlib.py\u001b[0m in \u001b[0;36mexists\u001b[0;34m(self, follow_symlinks)\u001b[0m\n\u001b[1;32m    858\u001b[0m         \"\"\"\n\u001b[1;32m    859\u001b[0m         \u001b[0;32mtry\u001b[0m\u001b[0;34m:\u001b[0m\u001b[0;34m\u001b[0m\u001b[0;34m\u001b[0m\u001b[0m\n\u001b[0;32m--> 860\u001b[0;31m             \u001b[0mself\u001b[0m\u001b[0;34m.\u001b[0m\u001b[0mstat\u001b[0m\u001b[0;34m(\u001b[0m\u001b[0mfollow_symlinks\u001b[0m\u001b[0;34m=\u001b[0m\u001b[0mfollow_symlinks\u001b[0m\u001b[0;34m)\u001b[0m\u001b[0;34m\u001b[0m\u001b[0;34m\u001b[0m\u001b[0m\n\u001b[0m\u001b[1;32m    861\u001b[0m         \u001b[0;32mexcept\u001b[0m \u001b[0mOSError\u001b[0m \u001b[0;32mas\u001b[0m \u001b[0me\u001b[0m\u001b[0;34m:\u001b[0m\u001b[0;34m\u001b[0m\u001b[0;34m\u001b[0m\u001b[0m\n\u001b[1;32m    862\u001b[0m             \u001b[0;32mif\u001b[0m \u001b[0;32mnot\u001b[0m \u001b[0m_ignore_error\u001b[0m\u001b[0;34m(\u001b[0m\u001b[0me\u001b[0m\u001b[0;34m)\u001b[0m\u001b[0;34m:\u001b[0m\u001b[0;34m\u001b[0m\u001b[0;34m\u001b[0m\u001b[0m\n",
            "\u001b[0;32m/usr/lib/python3.12/pathlib.py\u001b[0m in \u001b[0;36mstat\u001b[0;34m(self, follow_symlinks)\u001b[0m\n\u001b[1;32m    838\u001b[0m         \u001b[0mos\u001b[0m\u001b[0;34m.\u001b[0m\u001b[0mstat\u001b[0m\u001b[0;34m(\u001b[0m\u001b[0;34m)\u001b[0m \u001b[0mdoes\u001b[0m\u001b[0;34m.\u001b[0m\u001b[0;34m\u001b[0m\u001b[0;34m\u001b[0m\u001b[0m\n\u001b[1;32m    839\u001b[0m         \"\"\"\n\u001b[0;32m--> 840\u001b[0;31m         \u001b[0;32mreturn\u001b[0m \u001b[0mos\u001b[0m\u001b[0;34m.\u001b[0m\u001b[0mstat\u001b[0m\u001b[0;34m(\u001b[0m\u001b[0mself\u001b[0m\u001b[0;34m,\u001b[0m \u001b[0mfollow_symlinks\u001b[0m\u001b[0;34m=\u001b[0m\u001b[0mfollow_symlinks\u001b[0m\u001b[0;34m)\u001b[0m\u001b[0;34m\u001b[0m\u001b[0;34m\u001b[0m\u001b[0m\n\u001b[0m\u001b[1;32m    841\u001b[0m \u001b[0;34m\u001b[0m\u001b[0m\n\u001b[1;32m    842\u001b[0m     \u001b[0;32mdef\u001b[0m \u001b[0mlstat\u001b[0m\u001b[0;34m(\u001b[0m\u001b[0mself\u001b[0m\u001b[0;34m)\u001b[0m\u001b[0;34m:\u001b[0m\u001b[0;34m\u001b[0m\u001b[0;34m\u001b[0m\u001b[0m\n",
            "\u001b[0;31mKeyboardInterrupt\u001b[0m: "
          ]
        }
      ],
      "source": [
        "!git clone https://github.com/schonkopf/soundscape_IR.git\n",
        "!pip install umap-learn\n",
        "!pip install -U kaleido\n",
        "!pip install -U csaps"
      ]
    },
    {
      "cell_type": "code",
      "source": [
        "import pandas as pd\n",
        "import numpy as np\n",
        "import umap.umap_ as umap\n",
        "import plotly.graph_objects as go\n",
        "import plotly.express as px\n",
        "from plotly.subplots import make_subplots\n",
        "from csaps import csaps\n",
        "from sklearn.decomposition import non_negative_factorization as NMF\n",
        "import matplotlib.pyplot as plt\n",
        "from IPython.display import Image\n",
        "import warnings\n",
        "warnings.filterwarnings(\"ignore\")\n",
        "\n",
        "def nmf_rmse(input_data, max_n_basis, random_state=40):\n",
        "  rmse=np.zeros([1,max_n_basis])[0]\n",
        "  for n in np.arange(1,max_n_basis+1):\n",
        "    W, H, _ = NMF(input_data, n_components=n, init='random', random_state=40, update_H=True, alpha_W=0, beta_loss='frobenius', solver='cd', max_iter=200)\n",
        "    reconstruction = np.dot(W, H)\n",
        "    rmse[n-1]=np.power(np.mean(np.power(input_data-reconstruction,2)),0.5)\n",
        "\n",
        "  #rmse=-1*np.diff(rmse)\n",
        "  ax.plot(np.arange(1,max_n_basis+1),rmse)\n",
        "  _ = ax.set_xlabel('Number of basis')\n",
        "  _ = ax.set_ylabel('RMSE')\n",
        "  return rmse\n"
      ],
      "metadata": {
        "id": "_OFuul_9cR3C"
      },
      "execution_count": null,
      "outputs": []
    },
    {
      "cell_type": "markdown",
      "source": [
        "# Load data\n",
        "Exclude OTUs with total abundance (all samples) <1000"
      ],
      "metadata": {
        "id": "fgKIjy4lRHiG"
      }
    },
    {
      "cell_type": "code",
      "source": [
        "path='.'\n",
        "\n",
        "abundance_threshold=100\n",
        "taxa_sort='OTU' # Set to 'OTU'|'Species'|'Genus'|'Family'"
      ],
      "metadata": {
        "id": "1O2xmW0cRIHc"
      },
      "execution_count": null,
      "outputs": []
    },
    {
      "cell_type": "code",
      "source": [
        "data=pd.read_csv(path+'/'+'feature.csv', header=0)\n",
        "abundance=np.sum(data.iloc[:,1:], axis=1)\n",
        "process_list=np.where(abundance>=abundance_threshold)[0]\n",
        "data=data.iloc[process_list,:]\n",
        "data"
      ],
      "metadata": {
        "id": "T9MEUKo_z0z0"
      },
      "execution_count": null,
      "outputs": []
    },
    {
      "cell_type": "code",
      "source": [
        "metadata=pd.read_csv(path+'/'+'metadata.csv', header=0)\n",
        "metadata"
      ],
      "metadata": {
        "id": "bZqt6hpkcqJC"
      },
      "execution_count": null,
      "outputs": []
    },
    {
      "cell_type": "code",
      "source": [
        "taxa=pd.read_csv(path+'/'+'remove_empty_raw_data_env_tax.csv', header=0)\n",
        "taxa=taxa.iloc[process_list,:]\n",
        "taxa"
      ],
      "metadata": {
        "id": "l887HWmVcsDX"
      },
      "execution_count": null,
      "outputs": []
    },
    {
      "cell_type": "code",
      "source": [
        "if taxa_sort=='OTU':\n",
        "  print('No sorting')\n",
        "else:\n",
        "  taxa_data=pd.concat([taxa, data], axis=1)\n",
        "  taxa_data=taxa_data.groupby(taxa_sort).sum().reset_index()\n",
        "  data=taxa_data.iloc[:,len(taxa.columns):]\n",
        "  data['#OTU']=taxa_data[taxa_sort]\n",
        "  taxa=taxa_data[taxa_sort]\n",
        "data"
      ],
      "metadata": {
        "id": "X_nADKbUAD7z"
      },
      "execution_count": null,
      "outputs": []
    },
    {
      "cell_type": "markdown",
      "source": [
        "# Identify OTU groups\n",
        "Check OTU patterns across samples and treatments\n",
        "\n",
        "\n",
        "\n",
        "\n"
      ],
      "metadata": {
        "id": "VKkw8oMgcwRE"
      }
    },
    {
      "cell_type": "markdown",
      "source": [
        "## Use UMAP to analyze OTU heterogeneity\n",
        "* **log_transform:** log10(n+1)\n",
        "* **scale_normalize:** normalize the OTU abundance data of each sample to 0 and 1\n",
        "* **UMAP_min_distance:** a value close to 0 will focus on regional variation (tend to overfit), and a value close to 1 will focus on global variation (avoid overfitting)\n"
      ],
      "metadata": {
        "id": "BH-zMtuecePp"
      }
    },
    {
      "cell_type": "code",
      "source": [
        "log_transform=True\n",
        "scale_normalize=False # not very effective for True\n",
        "UMAP_min_distance=0.9 # between 0 and 1\n",
        "\n",
        "# Data transformation\n",
        "if log_transform:\n",
        "    scaled_data=np.log10(data.iloc[:,1:]+1)\n",
        "else:\n",
        "    scaled_data=data.iloc[:,1:]\n",
        "\n",
        "# Normalize each sample to 0-1\n",
        "if scale_normalize:\n",
        "    scaled_data=(scaled_data-scaled_data.min(axis=0))\n",
        "    scaled_data=scaled_data/scaled_data.max(axis=0)\n",
        "\n",
        "# Run UMAP analysis\n",
        "umap_otu=umap.UMAP(n_components=1, metric='correlation', min_dist=UMAP_min_distance, random_state=10).fit(scaled_data)\n",
        "otu_vector=np.argsort(umap_otu.embedding_[:,0])\n",
        "\n",
        "# Save UMAP coordinates\n",
        "umap_result=pd.DataFrame(umap_otu.embedding_)\n",
        "umap_result=pd.concat([umap_result, taxa.reset_index(drop=True)],axis=1)\n",
        "umap_result.to_csv('UMAP_OTU.csv', sep=',')"
      ],
      "metadata": {
        "id": "WwpCsScHf4t-"
      },
      "execution_count": null,
      "outputs": []
    },
    {
      "cell_type": "markdown",
      "source": [
        "## Visualize UMAP result\n",
        "Produce a heatmap of mean abundance (bin determined by *umap_bin_width*) to summarize OTU patterns across samples and treatments"
      ],
      "metadata": {
        "id": "CEBsmXdlcoVM"
      }
    },
    {
      "cell_type": "code",
      "source": [
        "umap_bin_width=1 # value >0\n",
        "\n",
        "# Create feature matrix\n",
        "k=0\n",
        "pick_umap=np.arange(np.floor(umap_result[0].min()),np.ceil(umap_result[0].max()),umap_bin_width)\n",
        "W=np.zeros((len(pick_umap),scaled_data.shape[1]))+np.nan\n",
        "for n in pick_umap:\n",
        "    ind=np.where((umap_result[0]>=n)*(umap_result[0]<(n+umap_bin_width))==1)[0]\n",
        "    W[k,:]=np.mean(scaled_data.iloc[ind,:],axis=0)\n",
        "    k+=1\n",
        "\n",
        "# Interactive visualization\n",
        "fig = make_subplots(rows=1, cols=1)\n",
        "fig.update_layout({'plot_bgcolor': 'rgba(0, 0, 0, 0)','paper_bgcolor': 'white'})\n",
        "fig.add_trace(go.Heatmap(z=W, y=pick_umap+umap_bin_width/2, x=list(data.columns[1:]), coloraxis='coloraxis1'), row=1, col=1)\n",
        "fig.update_yaxes(title_text='UMAP Coordinate', range=[np.floor(umap_result[0].min()), np.ceil(umap_result[0].max())], showgrid=False, zeroline=False, showline=True, linewidth=2, linecolor='black', mirror=True, row=1, col=1)\n",
        "fig.update_xaxes(title_text='Sample', showgrid=False, zeroline=False, showline=True, linewidth=2, linecolor='black', mirror=True, row=1, col=1)\n",
        "fig.update_layout(coloraxis1=dict(colorscale='Jet', showscale=True), bargap=0.05)\n",
        "fig.show()\n",
        "fig.write_html(file='UMAP_OTU_1D.html')\n",
        "\n",
        "# Active the foll\n",
        "save_figure=True\n",
        "if save_figure:\n",
        "  fig.write_image(\"UMAP_OTU_1D.jpg\", height=400, width=1500, scale=5)"
      ],
      "metadata": {
        "id": "zy_npKD6WcvY"
      },
      "execution_count": null,
      "outputs": []
    },
    {
      "cell_type": "markdown",
      "source": [
        "## Use Non-negative matrix factorization to group OTUs into clusters\n",
        "\n",
        "Run a series of NMF to find a minimum number of clusters that can maximize the reconstruction performance"
      ],
      "metadata": {
        "id": "9lXu6x9ueN4V"
      }
    },
    {
      "cell_type": "code",
      "source": [
        "fig, ax=plt.subplots()\n",
        "rmse=nmf_rmse(input_data=scaled_data, max_n_basis=15, random_state=10)"
      ],
      "metadata": {
        "id": "-a7EugPQGjnp"
      },
      "execution_count": null,
      "outputs": []
    },
    {
      "cell_type": "markdown",
      "source": [
        "## Visualize the activation scores of each OTU cluster"
      ],
      "metadata": {
        "id": "mGYBDcIrfOTR"
      }
    },
    {
      "cell_type": "code",
      "source": [
        "OTU_clusters=4 # int >1\n",
        "\n",
        "W, H, _ = NMF(scaled_data, n_components=OTU_clusters, init='random', random_state=10, update_H=True, alpha_W=0, beta_loss='frobenius', solver='cd', max_iter=200)\n",
        "W_cluster=np.argmax(W, axis=1)\n",
        "\n",
        "fig = go.Figure(data=go.Heatmap(z=H, x=list(data.columns[1:]), y=np.arange(H.shape[0]), colorscale='Jet'))\n",
        "fig.show()\n",
        "fig.write_html(file='NMF_OTU_1D.html')\n",
        "\n",
        "save_figure=True\n",
        "if save_figure:\n",
        "  fig.write_image(\"NMF_OTU_1D.jpg\", height=400, width=1500, scale=5)"
      ],
      "metadata": {
        "id": "aM4rZj-_DO5q"
      },
      "execution_count": null,
      "outputs": []
    },
    {
      "cell_type": "markdown",
      "source": [
        "## Save UMAP and NMF results"
      ],
      "metadata": {
        "id": "y_XnRXxUfeQD"
      }
    },
    {
      "cell_type": "code",
      "source": [
        "umap_result.insert(1, 'Cluster', W_cluster)\n",
        "umap_result.to_csv('UMAP_OTU.csv', sep=',')\n",
        "umap_result"
      ],
      "metadata": {
        "id": "BUMPgOHbReVB"
      },
      "execution_count": null,
      "outputs": []
    },
    {
      "cell_type": "markdown",
      "source": [
        "# Explore the temporal heterogeneity of treatments"
      ],
      "metadata": {
        "id": "gRVlBguTkB_H"
      }
    },
    {
      "cell_type": "markdown",
      "source": [
        "## Use UMAP to analyze sample heterogeneity\n",
        "\n",
        "*   **select_clusters:** Select OTU clusters that are highly related to treatmeants\n",
        "*   **UMAP_n_neighbors:** like knn clustering\n",
        "*   **UMAP_min_distance:** a value close to 0 will focus on regional variation (tend to overfit), and a value close to 1 will focus on global variation (avoid overfitting)\n",
        "\n",
        "\n"
      ],
      "metadata": {
        "id": "BxQGKba-gCKE"
      }
    },
    {
      "cell_type": "code",
      "source": [],
      "metadata": {
        "id": "QzamObc44QLy"
      },
      "execution_count": null,
      "outputs": []
    },
    {
      "cell_type": "code",
      "source": [
        "select_clusters=[0,2,3] # a list of int\n",
        "UMAP_n_neighbors=15 # int >1\n",
        "UMAP_min_distance=0.9 # between 0 and 1\n",
        "\n",
        "otu_cluster=pd.read_csv('UMAP_OTU.csv', header=0)\n",
        "otu_select=np.where(otu_cluster['Cluster'].isin(select_clusters))[0]\n",
        "#otu_select=np.arange(len(otu_vector)) # Active this line if you want to use all OTUs\n",
        "\n",
        "# Run UMAP analysis\n",
        "transform_data=scaled_data.T\n",
        "umap_model=umap.UMAP(n_components=1, metric='correlation', n_neighbors=UMAP_n_neighbors, min_dist=UMAP_min_distance, random_state=40).fit(transform_data.iloc[:,otu_select])\n",
        "\n",
        "# Save UMAP coordinates\n",
        "umap_result=pd.DataFrame(umap_model.embedding_)\n",
        "umap_result=pd.concat([umap_result, metadata.reset_index(drop=True)],axis=1)\n",
        "umap_result.to_csv('UMAP_sample.csv', sep=',')"
      ],
      "metadata": {
        "id": "UA_QfFSNkDW0"
      },
      "execution_count": null,
      "outputs": []
    },
    {
      "cell_type": "markdown",
      "source": [
        "## Visualize the temporal variation of each treatment\n",
        "Use cubic smoothing splines to fit the UMAP coordinates of each treament\n",
        "\n",
        "*   **curve_smooth:** 0 for very general fitting, 1 for overfitting\n",
        "\n"
      ],
      "metadata": {
        "id": "Udp9JqDOkOfv"
      }
    },
    {
      "cell_type": "code",
      "source": [
        "curve_smooth=0.5 # between 0 and 1\n",
        "\n",
        "# Get unique groups\n",
        "groups = umap_result['Type']+'_'+umap_result['Site']\n",
        "unique_groups = groups.unique()\n",
        "\n",
        "# Interactive visualization\n",
        "time_interval=0.1\n",
        "fig = make_subplots()\n",
        "fig.update_layout({'plot_bgcolor': 'rgba(0, 0, 0, 0)','paper_bgcolor': 'white'})\n",
        "color_palette = px.colors.qualitative.D3\n",
        "for i, group in enumerate(unique_groups):\n",
        "    group_data = umap_result[groups == group].reset_index(drop=True)\n",
        "    group_data['Time']=group_data['Time']+np.random.rand(group_data.shape[0])/1000\n",
        "    timevec=np.arange(group_data['Time'].min(), group_data['Time'].max()+time_interval, time_interval)\n",
        "    spline_result = csaps(group_data['Time'][np.argsort(group_data['Time'])], group_data[0][np.argsort(group_data['Time'])], timevec, smooth=curve_smooth)\n",
        "\n",
        "    color = color_palette[i % len(color_palette)]\n",
        "    fig.add_trace(go.Scatter(x=group_data['Time'], y=group_data[0], mode='markers', name=group, marker=dict(color=color),\n",
        "    showlegend=False ))\n",
        "    fig.add_trace(go.Scatter(x=timevec, y=spline_result, mode='lines', name=group + ' (smooth)', line=dict(color=color)))\n",
        "fig.update_yaxes(title_text='UMAP Coordinate', range=[np.floor(umap_result[0].min()), np.ceil(umap_result[0].max())], linewidth=2, linecolor='black', mirror=True)\n",
        "fig.update_xaxes(title_text='Time', range=[np.floor(umap_result['Time'].min())-1, np.ceil(umap_result['Time'].max())+1], linewidth=2, linecolor='black', mirror=True)\n",
        "fig.show()\n",
        "fig.write_html(file='UMAP_sample_ts.html')\n",
        "\n",
        "save_figure=True\n",
        "if save_figure:\n",
        "  fig.write_image(\"UMAP_sample_ts.jpg\", height=400, width=1000, scale=5)"
      ],
      "metadata": {
        "id": "kFAYpGbIkNAq"
      },
      "execution_count": null,
      "outputs": []
    },
    {
      "cell_type": "markdown",
      "source": [
        "## Visualize UMAP result\n",
        "Produce a heatmap of mean abundance (bin determined by *umap_bin_width*) to summarize sample patterns and their links to OTU abundances"
      ],
      "metadata": {
        "id": "wDVdr18Yl11S"
      }
    },
    {
      "cell_type": "code",
      "source": [
        "umap_bin_width=1 # value >0\n",
        "\n",
        "# Create feature matrix\n",
        "k=0\n",
        "pick_umap=np.arange(np.floor(umap_result[0].min()),np.ceil(umap_result[0].max()),umap_bin_width)\n",
        "W=np.zeros((len(pick_umap),transform_data.shape[1]))+np.nan\n",
        "for n in pick_umap:\n",
        "    ind=np.where((umap_result[0]>=n)*(umap_result[0]<(n+umap_bin_width))==1)[0]\n",
        "    W[k,:]=np.mean(transform_data.iloc[ind,:],axis=0)\n",
        "    k+=1\n",
        "\n",
        "# Interactive visualization\n",
        "fig = make_subplots(rows=1, cols=1)\n",
        "fig.update_layout({'plot_bgcolor': 'rgba(0, 0, 0, 0)','paper_bgcolor': 'white'}, height=600)\n",
        "fig.add_trace(go.Heatmap(z=W[:,otu_vector], y=pick_umap+umap_bin_width/2, x=data['#OTU'].iloc[otu_vector], coloraxis='coloraxis1'), row=1, col=1)\n",
        "fig.update_yaxes(title_text='UMAP Coordinate', range=[np.floor(umap_result[0].min()), np.ceil(umap_result[0].max())], showgrid=False, zeroline=False, showline=True, linewidth=2, linecolor='black', mirror=True, row=1, col=1)\n",
        "fig.update_xaxes(title_text='Sample', showgrid=False, zeroline=False, showline=True, linewidth=2, linecolor='black', mirror=True, row=1, col=1)\n",
        "fig.update_layout(coloraxis1=dict(colorscale='Jet', showscale=True), bargap=0.05)\n",
        "fig.show()\n",
        "fig.write_html(file='UMAP_Sample_1D.html')\n",
        "\n",
        "save_figure=True\n",
        "if save_figure:\n",
        "  fig.write_image(\"UMAP_Sample_1D.jpg\", height=400, width=1000, scale=5)"
      ],
      "metadata": {
        "id": "sxm7gd_t4MlR"
      },
      "execution_count": null,
      "outputs": []
    }
  ]
}